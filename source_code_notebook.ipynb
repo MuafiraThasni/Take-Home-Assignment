{
 "cells": [
  {
   "cell_type": "code",
   "execution_count": 12,
   "id": "8a87518f",
   "metadata": {},
   "outputs": [],
   "source": [
    "import random\n",
    "import math\n",
    "import numpy as np\n",
    "\n",
    "# Initial declarations of some variables\n",
    "population_size = 25 \n",
    "\n",
    "depots = None\n",
    "nodes = None\n",
    "population = None"
   ]
  },
  {
   "cell_type": "markdown",
   "id": "1e363664",
   "metadata": {},
   "source": [
    "Two classes are defined, each for Depot and Node details. (here I am using the term node for pickup or delovery locations).\n",
    "\n",
    "To simplify the solution process, I have assumed the time windows associated with an order as the service time of the corresponding delivery or pickup locations. Also it is assumed that all the vehicle at a depot have same maximum load capacity"
   ]
  },
  {
   "cell_type": "code",
   "execution_count": 2,
   "id": "da25e746",
   "metadata": {},
   "outputs": [],
   "source": [
    "class Depot:\n",
    "\n",
    "    def __init__(self, max_vehicles,max_load):\n",
    "        self.pos = (0, 0)\n",
    "        self.max_vehicles = max_vehicles \n",
    "        self.max_load = max_load #maximum load allowed for a single vehicle in a depot\n",
    "        self.closest_nodes = []\n",
    "\n",
    "\n",
    "class Node:\n",
    "\n",
    "    def __init__(self, id, x, y, demand):\n",
    "        self.id = id #name or identification id given for the nodes\n",
    "        self.pos = (x, y)\n",
    "        self.service_duration = service_duration\n",
    "        self.demand = demand\n"
   ]
  },
  {
   "cell_type": "markdown",
   "id": "859dde4c",
   "metadata": {},
   "source": [
    "**Distance Matrix**\n",
    "\n",
    "To calculate the travel time, Google map distance amtrix API can be used. Here I have assumed that the travel time is proportional to the distance and distace is calculated using the formula. This is not the practical case. But this function can be modified later easily, and remaining code will not be changed. However, along the code, I have used 'distance' instead of 'travel time'.\n",
    "\n",
    "input to the distance matrix is the position of two locations as x and y coordinates. (latitude,longitude)"
   ]
  },
  {
   "cell_type": "code",
   "execution_count": 3,
   "id": "288a0aa4",
   "metadata": {},
   "outputs": [],
   "source": [
    "def distance(pos1, pos2):\n",
    "    return math.sqrt((pos1[0] - pos2[0])**2 + (pos1[1] - pos2[1])**2)"
   ]
  },
  {
   "cell_type": "markdown",
   "id": "14b4c326",
   "metadata": {},
   "source": [
    "A function to set population size"
   ]
  },
  {
   "cell_type": "code",
   "execution_count": 5,
   "id": "5f94442d",
   "metadata": {},
   "outputs": [],
   "source": [
    "def set_population_size(size):\n",
    "    population_size = size"
   ]
  },
  {
   "cell_type": "markdown",
   "id": "eab792f8",
   "metadata": {},
   "source": [
    "**Finding the Closest depots**"
   ]
  },
  {
   "cell_type": "code",
   "execution_count": 6,
   "id": "c4996633",
   "metadata": {},
   "outputs": [],
   "source": [
    "def find_closest_depot(pos):\n",
    "    closest_depot = None\n",
    "    closest_distance = -1\n",
    "    for i, depot in enumerate(depots):\n",
    "        d = distance(depot.pos, pos)\n",
    "        if closest_depot is None or d < closest_distance:\n",
    "            closest_depot = (depot, i)\n",
    "            closest_distance = d\n",
    "\n",
    "    return closest_depot[0], closest_depot[1], closest_distance # depotposition,depotid,distance"
   ]
  },
  {
   "cell_type": "markdown",
   "id": "bea21364",
   "metadata": {},
   "source": [
    "**Grouping**"
   ]
  },
  {
   "cell_type": "code",
   "execution_count": null,
   "id": "ce7954fc",
   "metadata": {},
   "outputs": [],
   "source": [
    "# Group pickup locations to closest depot\n",
    "for n in Nodes:\n",
    "    if Nodes.type == 'PL': #pickup location \n",
    "        depot, depot_index, dist = find_closest_depot(n.pos)\n",
    "        groups[depot_index].append(n.id)"
   ]
  },
  {
   "cell_type": "code",
   "execution_count": null,
   "id": "80376d60",
   "metadata": {},
   "outputs": [],
   "source": [
    "#Group delivery locations to corresponding pickup locations\n",
    "for n in Nodes:\n",
    "    if Nodes.type == 'DL'\n",
    "    for i in (orders):\n",
    "        if i.dl == n:\n",
    "            depot, depot_index, dist = find_closest_depot(i.pl_pos)\n",
    "            groups[depot_index].append(n.id)"
   ]
  },
  {
   "cell_type": "markdown",
   "id": "d0338337",
   "metadata": {},
   "source": [
    "**Initial Solution**"
   ]
  },
  {
   "cell_type": "code",
   "execution_count": null,
   "id": "ae7aca0d",
   "metadata": {},
   "outputs": [],
   "source": [
    "# a random chromosome\n",
    "def create_random_chromosome(groups):\n",
    "    routes = []\n",
    "    for d in range(len(groups)):\n",
    "        depot = depots[d]\n",
    "        group = groups[d][:]\n",
    "        random.shuffle(group)\n",
    "        routes.append([[]])\n",
    "\n",
    "        r = 0\n",
    "        route_cost = 0\n",
    "        route_load = 0\n",
    "        last_pos = depot.pos\n",
    "        for c in group:\n",
    "            customer = customers[c - 1]\n",
    "            cost = distance(last_pos, node.pos) + node.service_duration + find_closest_depot(node.pos)[2]\n",
    "            if  route_load + node.demand > depot.max_load:\n",
    "                r += 1\n",
    "                routes[d].append([])\n",
    "            routes[d][r].append(c)"
   ]
  },
  {
   "cell_type": "code",
   "execution_count": null,
   "id": "262e648b",
   "metadata": {},
   "outputs": [],
   "source": [
    "#greedy heuristic algorithm using CW savings method\n",
    "def create_heuristic_chromosome(groups):\n",
    "    routes = [[] for i in range(len(depots))]\n",
    "    missing_nodes = list(map(lambda x: x.id,nodes))\n",
    "    for d in range(len(groups)):\n",
    "        depot = depots[d]\n",
    "        savings = []\n",
    "        for i in range(len(groups[d])):\n",
    "            ni = nodess[groups[d][i] - 1]\n",
    "            savings.append([])\n",
    "            for j in range(len(groups[d])):\n",
    "                if j <= i:\n",
    "                    savings[i].append(0)\n",
    "                else:\n",
    "                    nj = nodes[groups[d][j] - 1]\n",
    "                    #calculate savings in the sence of travel distance\n",
    "                    savings[i].append(distance(depot.pos, ni.pos) + distance(depot.pos, nj.pos) -\n",
    "                                      distance(ni.pos, nj.pos)) \n",
    "        savings = np.array(savings)\n",
    "        order = np.flip(np.argsort(savings, axis=None), 0) # sorting in descending order\n",
    "\n",
    "        for saving in order:\n",
    "            i = saving // len(groups[d])\n",
    "            j = saving % len(groups[d])\n",
    "\n",
    "            ni = groups[d][i]\n",
    "            nj = groups[d][j]\n",
    "\n",
    "            ri = -1\n",
    "            rj = -1\n",
    "            for r, route in enumerate(routes[d]):\n",
    "                if ni in route:\n",
    "                    ri = r\n",
    "                if nj in route:\n",
    "                    rj = r\n",
    "\n",
    "            route = None\n",
    "            if ri == -1 and rj == -1:\n",
    "                if len(routes[d]) < depot.max_vehicles:\n",
    "                    route = [ni, nj]\n",
    "            elif ri != -1 and rj == -1:\n",
    "                if routes[d][ri].index(ni) in (0, len(routes[d][ri]) - 1):\n",
    "                    route = routes[d][ri] + [nj]\n",
    "            elif ri == -1 and rj != -1:\n",
    "                if routes[d][rj].index(nj) in (0, len(routes[d][rj]) - 1):\n",
    "                    route = routes[d][rj] + [ni]\n",
    "            elif ri != rj:\n",
    "                route = routes[d][ri] + routes[d][rj]\n",
    "\n",
    "            if route:\n",
    "                if is_consistent_route(route, depot, True)[1] == 2: # checking the consitancy of route\n",
    "                    route = schedule_route(route)\n",
    "                if is_consistent_route(route, depot):\n",
    "                    if ri == -1 and rj == -1:\n",
    "                        routes[d].append(route)\n",
    "                        missing_nodes.remove(ni)\n",
    "                        if ni != nj:\n",
    "                            missing_nodes.remove(nj)\n",
    "                    elif ri != -1 and rj == -1:\n",
    "                        routes[d][ri] = route\n",
    "                        missing_nodes.remove(nj)\n",
    "                    elif ri == -1 and rj != -1:\n",
    "                        routes[d][rj] = route\n",
    "                        missing_nodes.remove(ni)\n",
    "                    elif ri != -1 and rj != -1:\n",
    "                        if ri > rj:\n",
    "                            routes[d].pop(ri)\n",
    "                            routes[d].pop(rj)\n",
    "                        else:\n",
    "                            routes[d].pop(rj)\n",
    "                            routes[d].pop(ri)\n",
    "                        routes[d].append(route)\n",
    "\n",
    "\n",
    "    # Order nodes within routes\n",
    "    for i, depot_routes in enumerate(routes):\n",
    "        for j, route in enumerate(depot_routes):\n",
    "            new_route = schedule_route(route) #calling the route scheduling function\n",
    "            routes[i][j] = new_route\n",
    "\n",
    "    chromosome = encode(routes)\n",
    "    chromosome.extend(missing_nodes)\n",
    "    return chromosome\n"
   ]
  },
  {
   "cell_type": "code",
   "execution_count": null,
   "id": "b9619c4a",
   "metadata": {},
   "outputs": [],
   "source": [
    "def initialize(random_portion=0):\n",
    "    global population\n",
    "    population = []\n",
    "    groups = [[] for i in range(len(depots))]\n",
    "\n",
    "    # Group customers to closest depot\n",
    "    for c in customers:\n",
    "        depot, depot_index, dist = find_closest_depot(c.pos)\n",
    "        groups[depot_index].append(c.id)\n",
    "\n",
    "    for z in range(int(population_size * (1 - random_portion))):\n",
    "        chromosome = create_heuristic_chromosome(groups)\n",
    "        population.append((chromosome, evaluate(chromosome)))\n",
    "\n",
    "    for z in range(int(population_size * random_portion)):\n",
    "        chromosome = create_random_chromosome(groups)\n",
    "        population.append((chromosome, evaluate(chromosome)))"
   ]
  },
  {
   "cell_type": "markdown",
   "id": "7aa4bc6b",
   "metadata": {},
   "source": [
    "**Route consitency**"
   ]
  },
  {
   "cell_type": "code",
   "execution_count": null,
   "id": "b2a81d4f",
   "metadata": {},
   "outputs": [],
   "source": [
    "def is_consistent_route(route, depot, include_reason=False):\n",
    "    route_load = 0\n",
    "    route_duration = 0\n",
    "    last_pos = depot.pos\n",
    "    for c in route:\n",
    "        node = nodes[c - 1]\n",
    "        route_load += node.demand\n",
    "        route_duration += distance(last_pos, node.pos) + node.service_duration\n",
    "        last_pos = node.pos\n",
    "    route_duration += find_closest_depot(last_pos)[2]\n",
    "\n",
    "    if include_reason:\n",
    "        if route_load > depot.max_load: \n",
    "            return False, 1\n",
    "        return True, 0\n",
    "    return route_load <= depot.max_load and (depot.max_duration == 0 or route_duration <= depot.max_duration)"
   ]
  },
  {
   "cell_type": "code",
   "execution_count": null,
   "id": "b089d2b8",
   "metadata": {},
   "outputs": [],
   "source": [
    "# a chromosome (the final route) is consistent only when the number of groups generated (vehicles used) is less than the maximum number of vehcicles in a depot\n",
    "def is_consistent(chromosome):\n",
    "    for c in node:\n",
    "        if c.id not in chromosome:\n",
    "            return False\n",
    "\n",
    "    routes = decode(chromosome)\n",
    "    for d in range(len(routes)):\n",
    "        depot = depots[d]\n",
    "        if len(routes[d]) > depot.max_vehicles:\n",
    "            return False\n",
    "        for route in routes[d]:\n",
    "            if not is_consistent_route(route, depot):\n",
    "                return False\n",
    "\n",
    "    return True"
   ]
  },
  {
   "cell_type": "markdown",
   "id": "a561112f",
   "metadata": {},
   "source": [
    "**chromosome encoding and decoding**"
   ]
  },
  {
   "cell_type": "code",
   "execution_count": null,
   "id": "c081586d",
   "metadata": {},
   "outputs": [],
   "source": [
    "def encode(routes):\n",
    "    chromosome = []\n",
    "    for d in range(len(routes)):\n",
    "        if d != 0:\n",
    "            chromosome.append(-1)\n",
    "        for r in range(len(routes[d])):\n",
    "            if r != 0:\n",
    "                chromosome.append(0)\n",
    "            chromosome.extend(routes[d][r])\n",
    "    return chromosome\n",
    "\n",
    "\n",
    "def decode(chromosome):\n",
    "    routes = [[[]]]\n",
    "    d = 0\n",
    "    r = 0\n",
    "    for i in chromosome:\n",
    "        if i < 0:\n",
    "            routes.append([[]])\n",
    "            d += 1\n",
    "            r = 0\n",
    "        elif i == 0:\n",
    "            routes[d].append([])\n",
    "            r += 1\n",
    "        else:\n",
    "            routes[d][r].append(i)\n",
    "    return routes\n"
   ]
  },
  {
   "cell_type": "markdown",
   "id": "7475b980",
   "metadata": {},
   "source": [
    "**Evaluation of chromosome**"
   ]
  },
  {
   "cell_type": "code",
   "execution_count": null,
   "id": "c6a479bb",
   "metadata": {},
   "outputs": [],
   "source": [
    "def evaluate(chromosome, return_distance=False):\n",
    "    for c in nodes:\n",
    "        if c.id not in chromosome:\n",
    "            if return_distance:\n",
    "                return math.inf\n",
    "            return 0\n",
    "\n",
    "    routes = decode(chromosome)\n",
    "    score = 0\n",
    "    for depot_index in range(len(routes)):\n",
    "        depot = depots[depot_index]\n",
    "        for route in routes[depot_index]:\n",
    "            route_length, route_load = evaluate_route(route, depot, True)\n",
    "\n",
    "            score += route_length\n",
    "\n",
    "            ##Sometimes penalty for the violation of tw and capacity constraints should be added here. Now I am not sure about it.\n",
    "           \n",
    "    if return_distance:\n",
    "        return score\n",
    "    return 1/score"
   ]
  },
  {
   "cell_type": "code",
   "execution_count": null,
   "id": "e46488ff",
   "metadata": {},
   "outputs": [],
   "source": [
    "#Evaluation of route \n",
    "def evaluate_route(route, depot, return_load=False):\n",
    "    if len(route) == 0:\n",
    "        if return_load:\n",
    "            return 0, 0\n",
    "        return 0\n",
    "    route_load = 0\n",
    "    route_length = 0\n",
    "    node = None\n",
    "    last_pos = depot.pos\n",
    "    for cid in route:\n",
    "        node = nodes[cid - 1]\n",
    "        route_load += node.demand\n",
    "        route_length += distance(last_pos, node.pos)\n",
    "        route_length += node.service_duration\n",
    "        last_pos = node.pos\n",
    "    route_length += find_closest_depot(node.pos)[1]\n",
    "\n",
    "    if return_load:\n",
    "        return route_length, route_load\n",
    "    return route_length"
   ]
  },
  {
   "cell_type": "markdown",
   "id": "96ef1321",
   "metadata": {},
   "source": [
    "**Scheduling the route**"
   ]
  },
  {
   "cell_type": "code",
   "execution_count": null,
   "id": "b1182cee",
   "metadata": {},
   "outputs": [],
   "source": [
    "def schedule_route(route):\n",
    "    if not len(route):\n",
    "        return route\n",
    "    new_route = []\n",
    "    prev_node = random.choice(route)\n",
    "    route.remove(prev_cust)\n",
    "    new_route.append(prev_node)\n",
    "\n",
    "    while len(route):\n",
    "        prev_node = min(route, key=lambda x: distance(node[x - 1].pos, node[prev_cust - 1].pos))\n",
    "        route.remove(prev_node)\n",
    "        new_route.append(prev_node)\n",
    "    return new_route"
   ]
  },
  {
   "cell_type": "markdown",
   "id": "04649e05",
   "metadata": {},
   "source": [
    "**Selection of route, (elite selection)**"
   ]
  },
  {
   "cell_type": "code",
   "execution_count": null,
   "id": "99b012d0",
   "metadata": {},
   "outputs": [],
   "source": [
    "def select(portion, elitism=0):\n",
    "    total_fitness = sum(map(lambda x: x[1], population))\n",
    "    weights = list(map(lambda x: (total_fitness - x[1])/(total_fitness * (population_size - 1)), population))\n",
    "    selection = random.choices(population, weights=weights, k=int(population_size*portion - elitism))\n",
    "    population.sort(key=lambda x: -x[1])\n",
    "    if elitism > 0:\n",
    "        selection.extend(population[:elitism])\n",
    "    return selection"
   ]
  },
  {
   "cell_type": "markdown",
   "id": "3a55f5cc",
   "metadata": {},
   "source": [
    "**CrossOver**"
   ]
  },
  {
   "cell_type": "code",
   "execution_count": null,
   "id": "3f1023d8",
   "metadata": {},
   "outputs": [],
   "source": [
    "def crossover(p1, p2):\n",
    "    protochild = [None] * max(len(p1), len(p2))\n",
    "    cut1 = int(random.random() * len(p1))\n",
    "    cut2 = int(cut1 + random.random() * (len(p1) - cut1))\n",
    "    substring = p1[cut1:cut2]\n",
    "\n",
    "    for i in range(cut1, cut2):\n",
    "        protochild[i] = p1[i]\n",
    "\n",
    "    p2_ = list(reversed(p2))\n",
    "    for g in substring:\n",
    "        if g in p2_:\n",
    "            p2_.remove(g)\n",
    "    p2_.reverse()\n",
    "\n",
    "    j = 0\n",
    "    for i in range(len(protochild)):\n",
    "        if protochild[i] is None:\n",
    "            if j >= len(p2_):\n",
    "                break\n",
    "            protochild[i] = p2_[j]\n",
    "            j += 1\n",
    "\n",
    "    i = len(protochild) - 1\n",
    "    while protochild[i] is None:\n",
    "        protochild.pop()\n",
    "        i -= 1\n",
    "\n",
    "    population.append((protochild, evaluate(protochild)))"
   ]
  },
  {
   "cell_type": "markdown",
   "id": "81764374",
   "metadata": {},
   "source": [
    "**Mutations**"
   ]
  },
  {
   "cell_type": "code",
   "execution_count": null,
   "id": "b8f2b51e",
   "metadata": {},
   "outputs": [],
   "source": [
    "def heuristic_mutate(p):\n",
    "    g = []\n",
    "    for i in range(3):\n",
    "        g.append(int(random.random() * len(p)))\n",
    "\n",
    "    offspring = []\n",
    "    for i in range(len(g)):\n",
    "        for j in range(len(g)):\n",
    "            if g == j:\n",
    "                continue\n",
    "            o = p[:]\n",
    "            o[g[i]], o[g[j]] = o[g[j]], o[g[i]]\n",
    "            offspring.append((o, evaluate(o)))\n",
    "\n",
    "    selected_offspring = max(offspring, key=lambda o: o[1])\n",
    "    population.append(selected_offspring)\n",
    "\n",
    "\n",
    "\n",
    "\n",
    "\n",
    "\n"
   ]
  },
  {
   "cell_type": "code",
   "execution_count": null,
   "id": "f89b1d4a",
   "metadata": {},
   "outputs": [],
   "source": [
    "def inversion_mutate(p):\n",
    "    cut1 = int(random.random() * len(p))\n",
    "    cut2 = int(cut1 + random.random() * (len(p) - cut1))\n",
    "\n",
    "    if cut1 == cut2:\n",
    "        return\n",
    "    if cut1 == 0:\n",
    "        child = p[:cut1] + p[cut2 - 1::-1] + p[cut2:]\n",
    "    else:\n",
    "        child = p[:cut1] + p[cut2 - 1:cut1 - 1:-1] + p[cut2:]\n",
    "    population.append((child, evaluate(child)))\n"
   ]
  },
  {
   "cell_type": "code",
   "execution_count": null,
   "id": "9725af04",
   "metadata": {},
   "outputs": [],
   "source": [
    "def best_insertion_mutate(p):\n",
    "    g = int(random.random() * len(p))\n",
    "\n",
    "    best_child = None\n",
    "    best_score = 0\n",
    "\n",
    "    for i in range(len(p) - 1):\n",
    "        child = p[:]\n",
    "        gene = child.pop(g)\n",
    "        child.insert(i, gene)\n",
    "        score = evaluate(child)\n",
    "        if score > best_score:\n",
    "            best_score = score\n",
    "            best_child = child\n",
    "\n",
    "    population.append((best_child, best_score))"
   ]
  },
  {
   "cell_type": "code",
   "execution_count": null,
   "id": "362789b6",
   "metadata": {},
   "outputs": [],
   "source": [
    "\n",
    "def depot_move_mutate(p):\n",
    "    if -1 not in p:\n",
    "        return\n",
    "    i = int(random.random() * len(p))\n",
    "    while p[i] != -1:\n",
    "        i = (i + 1) % len(p)\n",
    "\n",
    "    move_len = int(random.random() * 10) - 5\n",
    "    new_pos = (i + move_len) % len(p)\n",
    "\n",
    "    child = p[:]\n",
    "    child.pop(i)\n",
    "    child.insert(new_pos, -1)\n",
    "    population.append((child, evaluate(child)))\n"
   ]
  },
  {
   "cell_type": "markdown",
   "id": "5d3bf504",
   "metadata": {},
   "source": [
    "**Merging**"
   ]
  },
  {
   "cell_type": "code",
   "execution_count": null,
   "id": "519cee36",
   "metadata": {},
   "outputs": [],
   "source": [
    "def route_merge(p):\n",
    "    routes = decode(p)\n",
    "\n",
    "    d1 = int(random.random() * len(routes))\n",
    "    r1 = int(random.random() * len(routes[d1]))\n",
    "    d2 = int(random.random() * len(routes))\n",
    "    r2 = int(random.random() * len(routes[d2]))\n",
    "\n",
    "    if random.random() < 0.5:\n",
    "        limit = int(random.random() * len(routes[d2][r2]))\n",
    "    else:\n",
    "        limit = len(routes[d2][r2])\n",
    "\n",
    "    reverse = random.random() < 0.5\n",
    "\n",
    "    for i in range(limit):\n",
    "        if reverse:\n",
    "            routes[d1][r1].append(routes[d2][r2].pop(0))\n",
    "        else:\n",
    "            routes[d1][r1].append(routes[d2][r2].pop())\n",
    "    routes[d1][r1] = schedule_route(routes[d1][r1])\n",
    "    routes[d2][r2] = schedule_route(routes[d2][r2])\n",
    "    child = encode(routes)\n",
    "    population.append((child, evaluate(child)))"
   ]
  },
  {
   "cell_type": "markdown",
   "id": "6fd26516",
   "metadata": {},
   "source": [
    "**Combining all functions to run algorithm**"
   ]
  },
  {
   "cell_type": "code",
   "execution_count": null,
   "id": "73d8bd56",
   "metadata": {},
   "outputs": [],
   "source": [
    "def train(generations, crossover_rate, heuristic_mutate_rate, inversion_mutate_rate,\n",
    "          depot_move_mutate_rate, best_insertion_mutate_rate, route_merge_rate,\n",
    "          intermediate_plots=False, log=True):\n",
    "    global population\n",
    "    for g in range(generations):\n",
    "        if log and g % 10 == 0:\n",
    "            best = max(population, key=lambda x: x[1])\n",
    "            print(f'[Generation {g}] Best score: {best[1]} Consistent: {is_consistent(best[0])}')\n",
    "\n",
    "        selection = select(heuristic_mutate_rate + inversion_mutate_rate\n",
    "                           + crossover_rate + depot_move_mutate_rate + best_insertion_mutate_rate\n",
    "                           + route_merge_rate)\n",
    "        selection = list(map(lambda x: x[0], selection))\n",
    "\n",
    "        offset = 0\n",
    "        for i in range(int((population_size * crossover_rate) / 2)):\n",
    "            p1, p2 = selection[2*i + offset], selection[2*i + 1 + offset]\n",
    "            crossover(p1, p2)\n",
    "            crossover(p2, p1)\n",
    "        offset += int(population_size * crossover_rate)\n",
    "\n",
    "        for i in range(int(population_size * heuristic_mutate_rate)):\n",
    "            heuristic_mutate(selection[i + offset])\n",
    "        offset += int(population_size * heuristic_mutate_rate)\n",
    "\n",
    "        for i in range(int(population_size * inversion_mutate_rate)):\n",
    "            inversion_mutate(selection[i + offset])\n",
    "        offset += int(population_size * inversion_mutate_rate)\n",
    "\n",
    "        for i in range(int(population_size * depot_move_mutate_rate)):\n",
    "            depot_move_mutate(selection[i + offset])\n",
    "        offset += int(population_size * depot_move_mutate_rate)\n",
    "\n",
    "        for i in range(int(population_size * best_insertion_mutate_rate)):\n",
    "            best_insertion_mutate(selection[i + offset])\n",
    "        offset += int(population_size * best_insertion_mutate_rate)\n",
    "\n",
    "        for i in range(int(population_size * route_merge_rate)):\n",
    "            route_merge(selection[i + offset])\n",
    "        offset += int(population_size * route_merge_rate)\n",
    "\n",
    "        population = select(1.0, elitism=4)\n",
    "\n",
    "\n",
    "    best_solution = None\n",
    "    if is_consistent(population[0][0]):\n",
    "        print(f'Best score: {population[0][1]}, best distance: {evaluate(population[0][0], True)}')\n",
    "        best_solution = population[0][0]\n",
    "    else:\n",
    "        for c in population:\n",
    "            if is_consistent(c[0]):\n",
    "                print(f'Best score: {c[1]}, best distance: {evaluate(c[0], True)}')\n",
    "                best_solution = c[0]\n",
    "                break\n",
    "        else:\n",
    "            print('No consistent solution found!!!!.')\n",
    "    if best_solution:\n",
    "        plot(best_solution)\n",
    "    return best_solution"
   ]
  },
  {
   "cell_type": "code",
   "execution_count": null,
   "id": "003bceba",
   "metadata": {},
   "outputs": [],
   "source": []
  }
 ],
 "metadata": {
  "kernelspec": {
   "display_name": "Python 3",
   "language": "python",
   "name": "python3"
  },
  "language_info": {
   "codemirror_mode": {
    "name": "ipython",
    "version": 3
   },
   "file_extension": ".py",
   "mimetype": "text/x-python",
   "name": "python",
   "nbconvert_exporter": "python",
   "pygments_lexer": "ipython3",
   "version": "3.8.8"
  }
 },
 "nbformat": 4,
 "nbformat_minor": 5
}
